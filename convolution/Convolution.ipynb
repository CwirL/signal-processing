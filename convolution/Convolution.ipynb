{
 "cells": [
  {
   "cell_type": "markdown",
   "metadata": {
    "scrolled": true
   },
   "source": [
    "# Convolution"
   ]
  },
  {
   "cell_type": "code",
   "execution_count": 7,
   "metadata": {},
   "outputs": [
    {
     "data": {
      "application/vnd.jupyter.widget-view+json": {
       "model_id": "377aac67196c40dea1b27ab86bea5ef7",
       "version_major": 2,
       "version_minor": 0
      },
      "text/plain": [
       "Label(value='Funciones a convolucionar')"
      ]
     },
     "metadata": {},
     "output_type": "display_data"
    },
    {
     "data": {
      "application/vnd.jupyter.widget-view+json": {
       "model_id": "73f3eaea38db4061aea3037389e26a68",
       "version_major": 2,
       "version_minor": 0
      },
      "text/plain": [
       "Box(children=(Box(children=(Label(value=''), Dropdown(options=('Elija una función', 'Exponencial creciente', '…"
      ]
     },
     "metadata": {},
     "output_type": "display_data"
    },
    {
     "data": {
      "application/vnd.jupyter.widget-view+json": {
       "model_id": "750f2f252b5a407ba28a41cf5b2b83a8",
       "version_major": 2,
       "version_minor": 0
      },
      "text/plain": [
       "Label(value='Nota: La función de la izquierda sera la funcion que se va a girar')"
      ]
     },
     "metadata": {},
     "output_type": "display_data"
    },
    {
     "data": {
      "application/vnd.jupyter.widget-view+json": {
       "model_id": "",
       "version_major": 2,
       "version_minor": 0
      },
      "text/plain": [
       "Button(description='Aceptar', style=ButtonStyle())"
      ]
     },
     "metadata": {},
     "output_type": "display_data"
    },
    {
     "data": {
      "application/vnd.jupyter.widget-view+json": {
       "model_id": "",
       "version_major": 2,
       "version_minor": 0
      },
      "text/plain": [
       "Label(value='Parametros Exponencial Decrec.')"
      ]
     },
     "metadata": {},
     "output_type": "display_data"
    },
    {
     "data": {
      "application/vnd.jupyter.widget-view+json": {
       "model_id": "",
       "version_major": 2,
       "version_minor": 0
      },
      "text/plain": [
       "IntText(value=0, description='amplitud:')"
      ]
     },
     "metadata": {},
     "output_type": "display_data"
    },
    {
     "data": {
      "application/vnd.jupyter.widget-view+json": {
       "model_id": "",
       "version_major": 2,
       "version_minor": 0
      },
      "text/plain": [
       "IntText(value=0, description='Ti:')"
      ]
     },
     "metadata": {},
     "output_type": "display_data"
    },
    {
     "data": {
      "application/vnd.jupyter.widget-view+json": {
       "model_id": "",
       "version_major": 2,
       "version_minor": 0
      },
      "text/plain": [
       "IntText(value=0, description='Tf:')"
      ]
     },
     "metadata": {},
     "output_type": "display_data"
    },
    {
     "data": {
      "application/vnd.jupyter.widget-view+json": {
       "model_id": "",
       "version_major": 2,
       "version_minor": 0
      },
      "text/plain": [
       "IntText(value=0, description='exponente:')"
      ]
     },
     "metadata": {},
     "output_type": "display_data"
    },
    {
     "data": {
      "application/vnd.jupyter.widget-view+json": {
       "model_id": "",
       "version_major": 2,
       "version_minor": 0
      },
      "text/plain": [
       "Button(description='Listo', style=ButtonStyle())"
      ]
     },
     "metadata": {},
     "output_type": "display_data"
    },
    {
     "data": {
      "application/vnd.jupyter.widget-view+json": {
       "model_id": "",
       "version_major": 2,
       "version_minor": 0
      },
      "text/plain": [
       "Label(value='Parametros sinusoidal')"
      ]
     },
     "metadata": {},
     "output_type": "display_data"
    },
    {
     "data": {
      "application/vnd.jupyter.widget-view+json": {
       "model_id": "",
       "version_major": 2,
       "version_minor": 0
      },
      "text/plain": [
       "IntText(value=0, description='amplitud:')"
      ]
     },
     "metadata": {},
     "output_type": "display_data"
    },
    {
     "data": {
      "application/vnd.jupyter.widget-view+json": {
       "model_id": "",
       "version_major": 2,
       "version_minor": 0
      },
      "text/plain": [
       "IntText(value=0, description='Periodo:')"
      ]
     },
     "metadata": {},
     "output_type": "display_data"
    },
    {
     "data": {
      "application/vnd.jupyter.widget-view+json": {
       "model_id": "",
       "version_major": 2,
       "version_minor": 0
      },
      "text/plain": [
       "Button(description='Listo', style=ButtonStyle())"
      ]
     },
     "metadata": {},
     "output_type": "display_data"
    },
    {
     "data": {
      "application/vnd.jupyter.widget-view+json": {
       "model_id": "84a7bd3188d248839efc852ce98c8468",
       "version_major": 2,
       "version_minor": 0
      },
      "text/plain": [
       "Button(description='Mostrar Grafica', style=ButtonStyle())"
      ]
     },
     "metadata": {},
     "output_type": "display_data"
    },
    {
     "data": {
      "image/png": "[encoded data removed]",
      "text/plain": [
       "<Figure size 432x288 with 3 Axes>"
      ]
     },
     "metadata": {
      "needs_background": "light"
     },
     "output_type": "display_data"
    }
   ],
   "source": [
    "from matplotlib import pyplot as plt\n",
    "import numpy as np\n",
    "from scipy import signal as sp\n",
    "from ipywidgets import Button, Label, Dropdown, Text, IntText, FloatText, Layout, Button, Box\n",
    "import ipywidgets as widgets\n",
    "\n",
    "from IPython.display import display\n",
    "\n",
    "form_item_layout = Layout(\n",
    "    display='flex',\n",
    "    flex_flow='row',\n",
    "    justify_content='space-between'\n",
    ")\n",
    "op=['Dominio del tiempo', 'Continuo', 'Discreto']\n",
    "\n",
    "Opciones =['Elija una función', 'Exponencial creciente', 'Exponencial decreciente', 'Triangular', 'Sinusoidal',\n",
    " 'Rectangular']\n",
    "Opciones1 =['Elija una función', 'Exponencial creciente', 'Exponencial decreciente', 'Triangular', 'Sinusoidal',\n",
    " 'Rectangular']\n",
    "drop2=Dropdown(options=op)\n",
    "drop = Dropdown(options=Opciones)\n",
    "drop1 = Dropdown(options=Opciones1)\n",
    "form_items = [\n",
    "    Box([Label(value=''), drop], layout=form_item_layout),\n",
    "    Box([Label(value='*'), drop1], layout=form_item_layout),\n",
    "    Box([Label(value=''), drop2], layout=form_item_layout)]\n",
    "\n",
    "form = Box(form_items, layout=Layout(\n",
    "    display='flex',\n",
    "    flex_flow='raw',\n",
    "    border='solid 2px',\n",
    "    align_items='stretch',\n",
    "    width='50%'))\n",
    "\n",
    "\n",
    "def MostrarDrop(b):\n",
    "    global x\n",
    "    global t\n",
    "    \n",
    "    if txt2.value<0:\n",
    "        p=txt2.value*(-1)\n",
    "    else:\n",
    "        p=txt2.value\n",
    "    #Mejorar tiempo final de t \n",
    "    if txt4.value>txt12.value:\n",
    "        periodo=txt4.value;\n",
    "    else:\n",
    "        periodo=txt12.value\n",
    "        \n",
    "    t=np.arange(txt2.value,p+periodo,0.1)\n",
    "\n",
    "    if Opciones[1] == drop.value:\n",
    "        x =txt1.value*np.exp(txt4.value*t)\n",
    "        \n",
    "    if Opciones[2] == drop.value:\n",
    "        x =txt1.value*np.exp(txt4.value*(-t))\n",
    "    if Opciones[3] == drop.value:\n",
    "        x = txt1.value*sp.sawtooth(t)\n",
    "    if Opciones[4] == drop.value:\n",
    "        x = txt1.value*np.sin((2*np.pi/txt4.value)*t)\n",
    "    if Opciones[5] == drop.value:\n",
    "        x = txt1.value*sp.square(t)\n",
    "\n",
    "def MostrarDrop1(b):\n",
    "    global x1\n",
    "\n",
    "    if Opciones1[1] == drop1.value:\n",
    "        x1 = txt11.value*np.exp(txt12.value*t)\n",
    "    if Opciones1[2] == drop1.value:\n",
    "        x1 = txt11.value*np.exp(txt12.value*(-t))\n",
    "    if Opciones1[3] == drop1.value:\n",
    "        x1 = txt11.value*sp.sawtooth(t)\n",
    "    if Opciones1[4] == drop1.value:\n",
    "        x1 = txt11.value*np.sin((2*np.pi/txt12.value)*t)\n",
    "    if Opciones1[5] == drop1.value:\n",
    "        x1 = txt11.value*sp.square(t)\n",
    "\n",
    "        \n",
    "lab=Label()\n",
    "\n",
    "def Param_drop(b):\n",
    "    global txt1\n",
    "    global txt2\n",
    "    global txt3\n",
    "    global txt4\n",
    "    global lab\n",
    "    if Opciones[1] == drop.value:\n",
    "        txt1 = widgets.IntText(value=0, description='amplitud:')\n",
    "        txt2 = widgets.IntText(value=0, description='Ti:')\n",
    "        txt3 = widgets.IntText(value=0, description='Tf:')\n",
    "        txt4 = widgets.IntText(value=0, description='exponente:')\n",
    "        lab.value='Parametros Exponencial Crec.'\n",
    "        display(lab,txt1,txt2,txt3,txt4,listo)\n",
    "        \n",
    "        listo.on_click(close)\n",
    "        listo.on_click(MostrarDrop)\n",
    "        \n",
    "    if Opciones[2] == drop.value:\n",
    "        txt1 = widgets.IntText(value=0, description='amplitud:')\n",
    "        txt2 = widgets.IntText(value=0, description='Ti:')\n",
    "        txt3 = widgets.IntText(value=0, description='Tf:')\n",
    "        txt4 = widgets.IntText(value=0, description='exponente:')\n",
    "        lab.value='Parametros Exponencial Decrec.'\n",
    "        display(lab,txt1,txt2,txt3,txt4,listo)\n",
    "        \n",
    "        listo.on_click(close)\n",
    "        listo.on_click(MostrarDrop)\n",
    "        \n",
    "    if Opciones[3] == drop.value:\n",
    "        lab.value='Parametros Triangular'\n",
    "        txt1 = widgets.IntText(value=0, description='amplitud:')\n",
    "        txt2 = widgets.IntText(value=0, description='Ti:')\n",
    "        txt3 = widgets.IntText(value=0, description='Tf:')\n",
    "        display(lab,txt1,txt2,txt3,listo)\n",
    "        listo.on_click(close)\n",
    "        listo.on_click(MostrarDrop)\n",
    "        \n",
    "    if Opciones[4] == drop.value:\n",
    "        txt1 = widgets.IntText(value=0, description='amplitud:')\n",
    "        txt2 = widgets.IntText(value=0, description='Ti:')\n",
    "        txt3 = widgets.IntText(value=0, description='Tf:')\n",
    "        txt4 = widgets.IntText(value=0, description='Periodo:')\n",
    "        lab.value='Parametros sinusoidal'\n",
    "        display(lab,txt1,txt2,txt3,txt4,listo)\n",
    "        listo.on_click(close)\n",
    "        listo.on_click(MostrarDrop)\n",
    "        \n",
    "    if Opciones[5] == drop.value:\n",
    "        lab.value='Parametros rectangular'\n",
    "        txt1 = widgets.IntText(value=0, description='amplitud:')\n",
    "        txt2 = widgets.IntText(value=0, description='Ti:')\n",
    "        txt3 = widgets.IntText(value=0, description='Tf:')\n",
    "        display(lab,txt1,txt2,txt3,listo)\n",
    "        \n",
    "        listo.on_click(close) \n",
    "        listo.on_click(MostrarDrop)\n",
    "\n",
    "lab1=Label()\n",
    "def Param_drop1(b):\n",
    "    global txt11\n",
    "    global txt12\n",
    "\n",
    "    global lab1\n",
    "    if Opciones1[1] == drop1.value:\n",
    "        txt11 = widgets.IntText(value=0, description='amplitud:')\n",
    "        txt12 = widgets.IntText(value=0, description='exponente:')\n",
    "        lab1.value='Parametros Exponencial Crec.'\n",
    "        display(lab1,txt11,txt12,listo1)\n",
    "        listo1.on_click(close1)\n",
    "        listo1.on_click(MostrarDrop1)\n",
    "        \n",
    "    if Opciones1[2] == drop1.value:\n",
    "        txt11 = widgets.IntText(value=0, description='amplitud:')\n",
    "        txt12 = widgets.IntText(value=0, description='exponente:')\n",
    "        lab1.value='Parametros Exponencial Decrec.'\n",
    "        display(lab1,txt11,txt12,listo1)\n",
    "        listo1.on_click(close1)\n",
    "        listo1.on_click(MostrarDrop1)\n",
    "        \n",
    "    if Opciones1[3] == drop1.value:\n",
    "        lab1.value='Parametros Triangular'\n",
    "        txt11 = widgets.IntText(value=0, description='amplitud:')\n",
    "        display(lab1,txt11,listo1)\n",
    "        listo1.on_click(close1)\n",
    "        listo1.on_click(MostrarDrop1)\n",
    "        \n",
    "    if Opciones1[4] == drop1.value:\n",
    "        txt11 = widgets.IntText(value=0, description='amplitud:')\n",
    "        txt12 = widgets.IntText(value=0, description='Periodo:')\n",
    "        lab1.value='Parametros sinusoidal'\n",
    "        display(lab1,txt11,txt12,listo1)\n",
    "        listo1.on_click(close1)\n",
    "        listo1.on_click(MostrarDrop1)\n",
    "        \n",
    "    if Opciones1[5] == drop1.value:\n",
    "        lab1.value='Parametros rectangular'\n",
    "        txt11 = widgets.IntText(value=0, description='amplitud:')\n",
    "        display(lab1,txt11,listo1)\n",
    "        listo1.on_click(close1)\n",
    "        listo1.on_click(MostrarDrop1)\n",
    "        \n",
    "\n",
    "\n",
    "listo = Button(description='Listo')\n",
    "listo1 = Button(description='Listo')\n",
    "Aceptar = Button(description='Aceptar')\n",
    "Aceptar1 = Button(description='Mostrar Grafica')\n",
    "\n",
    "Aceptar.on_click(Param_drop)\n",
    "Aceptar.on_click(Param_drop1)\n",
    "\n",
    "\n",
    "def close(b):\n",
    "    lab.close()\n",
    "    txt1.close()\n",
    "    txt2.close()\n",
    "    txt3.close()\n",
    "    if Opciones[1] == drop.value or Opciones[2] == drop.value or Opciones[4] == drop.value:\n",
    "        txt4.close()\n",
    "    listo.close()\n",
    "    \n",
    "def close1(b):\n",
    "    lab1.close()\n",
    "    txt11.close()\n",
    "    if Opciones1[1] == drop1.value or Opciones1[2] == drop1.value or Opciones1[4] == drop1.value:\n",
    "        txt12.close()\n",
    "    listo1.close()\n",
    "    Aceptar.close()\n",
    "    display(Aceptar1)\n",
    "    \n",
    "\n",
    "\n",
    "\n",
    "def Dib_Func(b):\n",
    "    global conv1\n",
    "    global t1\n",
    "    if op[1]== drop2.value:\n",
    "        conv1=sp.convolve(x1,x,'full')\n",
    "        t1=np.linspace(min(t),max(t),conv1.size)\n",
    "        plt.subplot(131)\n",
    "        plt.plot(t,x)\n",
    "        plt.subplot(132)\n",
    "        plt.plot(t,x1)\n",
    "        plt.subplot(133)\n",
    "        plt.plot(t1,conv1)\n",
    "    if op[2] == drop2.value:\n",
    "        conv1=sp.convolve(x1,x,'full')\n",
    "        t1=np.linspace(min(t),max(t),conv1.size)\n",
    "        plt.subplot(131)\n",
    "        plt.stem(t,x)\n",
    "        plt.subplot(132)\n",
    "        plt.stem(t,x1)\n",
    "        plt.subplot(133)\n",
    "        plt.stem(t1,conv1)\n",
    "labe=Label()\n",
    "labell=Label()\n",
    "labe.value='Funciones a convolucionar'\n",
    "labell.value='Nota: La función de la izquierda sera la funcion que se va a girar'\n",
    "Aceptar1.on_click(Dib_Func)  \n",
    "display(labe,form,labell, Aceptar)\n",
    "\n",
    "\n",
    "\n"
   ]
  },
  {
   "cell_type": "markdown",
   "metadata": {},
   "source": [
    "## Animation"
   ]
  },
  {
   "cell_type": "code",
   "execution_count": 8,
   "metadata": {},
   "outputs": [
    {
     "data": {
      "image/png": "[encoded data removed]",
      "text/plain": [
       "<Figure size 432x288 with 1 Axes>"
      ]
     },
     "metadata": {
      "needs_background": "light"
     },
     "output_type": "display_data"
    }
   ],
   "source": [
    "from IPython.display import clear_output\n",
    "if t[0]<0:\n",
    "    p=t[0]*(-1)\n",
    "else:\n",
    "    p=t[0]    \n",
    "s=(p+t[t.size-1])\n",
    "i=-1\n",
    "while i<2:\n",
    "    clear_output(wait=True)\n",
    "    i+=0.1\n",
    "    plt.subplot(211)\n",
    "    plt.plot(s*i-t,x,t,x1)\n",
    "    plt.xlim(-60,80)\n",
    "    plt.show()\n",
    "\n",
    "con=np.linspace(0,0,conv1.size)\n",
    "for i in range(conv1.size):\n",
    "    clear_output(wait=True)\n",
    "    con[i]=conv1[i]\n",
    "    plt.subplot(221)\n",
    "    plt.plot(t1,con)\n",
    "    plt.show()"
   ]
  },
  {
   "cell_type": "markdown",
   "metadata": {},
   "source": [
    "## Test"
   ]
  },
  {
   "cell_type": "code",
   "execution_count": 9,
   "metadata": {},
   "outputs": [
    {
     "data": {
      "text/plain": [
       "[<matplotlib.lines.Line2D at 0x7f6e4ce7a198>]"
      ]
     },
     "execution_count": 9,
     "metadata": {},
     "output_type": "execute_result"
    },
    {
     "data": {
      "image/png": "[encoded data removed]",
      "text/plain": [
       "<Figure size 432x288 with 1 Axes>"
      ]
     },
     "metadata": {
      "needs_background": "light"
     },
     "output_type": "display_data"
    }
   ],
   "source": [
    "#Señal Quiz\n",
    "from matplotlib import pyplot as plt\n",
    "import numpy as np\n",
    "from scipy import signal as sp\n",
    "from ipywidgets import Button, Label, Dropdown, Text, IntText, FloatText, Layout, Button, Box\n",
    "import ipywidgets as widgets\n",
    "\n",
    "from IPython.display import display\n",
    "t=np.linspace(0,12,100)\n",
    "def señal():\n",
    "    t=np.linspace(0,12,100)\n",
    "    part=(max(t)-min(t))/3\n",
    "    partes=int(t.size/3)\n",
    "\n",
    "    f=np.linspace(0,0,100)\n",
    "    t0=np.linspace(0,part,33)\n",
    "    v0 = np.linspace(min(t),min(t),33)\n",
    "\n",
    "    t1=np.linspace(part,2*part,33)\n",
    "    v1=np.exp(t1)\n",
    "\n",
    "    t2=np.linspace(2*part,max(t),34)\n",
    "    v2=np.linspace(max(v1),max(v1),t2.size)\n",
    "    j=0\n",
    "    for i in range(100):\n",
    "        if i<33:\n",
    "            f[i]=v0[j]\n",
    "            if i==32:\n",
    "                j=0\n",
    "\n",
    "        if i>=33 and i<=64:\n",
    "            f[i]=v1[j]-np.exp(part)\n",
    "            if i==64:\n",
    "                j=0\n",
    "                f[65]=v2[0]\n",
    "\n",
    "        if i>65 and i<100:\n",
    "            f[i]=v2[0]\n",
    "\n",
    "        j+=1\n",
    "    return f\n",
    "f = señal()\n",
    "plt.plot(t,f)\n"
   ]
  }
 ],
 "metadata": {
  "kernelspec": {
   "display_name": "Python 3",
   "language": "python",
   "name": "python3"
  },
  "language_info": {
   "codemirror_mode": {
    "name": "ipython",
    "version": 3
   },
   "file_extension": ".py",
   "mimetype": "text/x-python",
   "name": "python",
   "nbconvert_exporter": "python",
   "pygments_lexer": "ipython3",
   "version": "3.7.3"
  }
 },
 "nbformat": 4,
 "nbformat_minor": 2
}
